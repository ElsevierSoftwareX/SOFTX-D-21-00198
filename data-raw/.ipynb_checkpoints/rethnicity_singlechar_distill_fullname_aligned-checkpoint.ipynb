{
 "cells": [
  {
   "cell_type": "markdown",
   "metadata": {
    "id": "5Zdu8rFoKxyf"
   },
   "source": [
    "# Note"
   ]
  },
  {
   "cell_type": "code",
   "execution_count": 1,
   "metadata": {
    "executionInfo": {
     "elapsed": 8,
     "status": "ok",
     "timestamp": 1630415539027,
     "user": {
      "displayName": "Fangzhou Xie",
      "photoUrl": "",
      "userId": "15917180334657161129"
     },
     "user_tz": 240
    },
    "id": "YTpDydcEKo18"
   },
   "outputs": [],
   "source": [
    "# model on fullnames but make sure that last names aligned at the same position\n",
    "# this is to overcome the fullname model only focus on firstname part"
   ]
  },
  {
   "cell_type": "markdown",
   "metadata": {
    "id": "3hgD1DqMK03m"
   },
   "source": [
    "# Preprocess the data"
   ]
  },
  {
   "cell_type": "code",
   "execution_count": 2,
   "metadata": {
    "executionInfo": {
     "elapsed": 6,
     "status": "ok",
     "timestamp": 1630415539028,
     "user": {
      "displayName": "Fangzhou Xie",
      "photoUrl": "",
      "userId": "15917180334657161129"
     },
     "user_tz": 240
    },
    "id": "taMAZqezgDun"
   },
   "outputs": [],
   "source": [
    "# change keras default GPU\n",
    "# os.environ[\"CUDA_VISIBLE_DEVICES\"]=\"0\" # first gpu\n",
    "# os.environ[\"CUDA_VISIBLE_DEVICES\"]=\"1\" # second gpu\n",
    "# os.environ[\"CUDA_VISIBLE_DEVICES\"] = \"-1\" # runs in cpu"
   ]
  },
  {
   "cell_type": "code",
   "execution_count": 3,
   "metadata": {
    "executionInfo": {
     "elapsed": 5,
     "status": "ok",
     "timestamp": 1630415539028,
     "user": {
      "displayName": "Fangzhou Xie",
      "photoUrl": "",
      "userId": "15917180334657161129"
     },
     "user_tz": 240
    },
    "id": "SPIPSqox9Wcb"
   },
   "outputs": [],
   "source": [
    "# pip install keras-tuner"
   ]
  },
  {
   "cell_type": "code",
   "execution_count": 4,
   "metadata": {
    "colab": {
     "base_uri": "https://localhost:8080/"
    },
    "executionInfo": {
     "elapsed": 16523,
     "status": "ok",
     "timestamp": 1630415555546,
     "user": {
      "displayName": "Fangzhou Xie",
      "photoUrl": "",
      "userId": "15917180334657161129"
     },
     "user_tz": 240
    },
    "id": "24HWCEA89jk_",
    "outputId": "ae809fff-3fb5-47ca-a5a0-11aee27508b0"
   },
   "outputs": [
    {
     "name": "stdout",
     "output_type": "stream",
     "text": [
      "Mounted at /content/drive\n"
     ]
    }
   ],
   "source": [
    "from google.colab import drive\n",
    "drive.mount('/content/drive')"
   ]
  },
  {
   "cell_type": "code",
   "execution_count": 5,
   "metadata": {
    "colab": {
     "base_uri": "https://localhost:8080/"
    },
    "executionInfo": {
     "elapsed": 7,
     "status": "ok",
     "timestamp": 1630415555547,
     "user": {
      "displayName": "Fangzhou Xie",
      "photoUrl": "",
      "userId": "15917180334657161129"
     },
     "user_tz": 240
    },
    "id": "aSEGoTH49pb_",
    "outputId": "0e63edfd-988e-4154-d6d8-301e4752bf3c"
   },
   "outputs": [
    {
     "name": "stdout",
     "output_type": "stream",
     "text": [
      "/content/drive/MyDrive/rethnicity\n"
     ]
    }
   ],
   "source": [
    "cd drive/MyDrive/rethnicity/"
   ]
  },
  {
   "cell_type": "code",
   "execution_count": 6,
   "metadata": {
    "colab": {
     "base_uri": "https://localhost:8080/"
    },
    "executionInfo": {
     "elapsed": 4182,
     "status": "ok",
     "timestamp": 1630415559725,
     "user": {
      "displayName": "Fangzhou Xie",
      "photoUrl": "",
      "userId": "15917180334657161129"
     },
     "user_tz": 240
    },
    "id": "ZOJP04Jh9vGh",
    "outputId": "6c982fd2-e081-4382-c944-04bd8708ab2d"
   },
   "outputs": [
    {
     "name": "stdout",
     "output_type": "stream",
     "text": [
      "2.6.0\n"
     ]
    }
   ],
   "source": [
    "import tensorflow.keras as keras\n",
    "import tensorflow as tf\n",
    "print(keras.__version__)\n",
    "#print(tf.__version__)\n",
    "import numpy as np\n",
    "import pandas as pd\n",
    "from sklearn.feature_extraction.text import CountVectorizer\n",
    "from sklearn.model_selection import train_test_split\n",
    "from sklearn.metrics import classification_report, confusion_matrix\n",
    "import string"
   ]
  },
  {
   "cell_type": "code",
   "execution_count": 7,
   "metadata": {
    "executionInfo": {
     "elapsed": 2361,
     "status": "ok",
     "timestamp": 1630415562083,
     "user": {
      "displayName": "Fangzhou Xie",
      "photoUrl": "",
      "userId": "15917180334657161129"
     },
     "user_tz": 240
    },
    "id": "dA4Rg9_e9yFd"
   },
   "outputs": [],
   "source": [
    "df = pd.read_csv('name_undersampled.csv')"
   ]
  },
  {
   "cell_type": "code",
   "execution_count": 8,
   "metadata": {
    "colab": {
     "base_uri": "https://localhost:8080/",
     "height": 419
    },
    "executionInfo": {
     "elapsed": 11,
     "status": "ok",
     "timestamp": 1630415562088,
     "user": {
      "displayName": "Fangzhou Xie",
      "photoUrl": "",
      "userId": "15917180334657161129"
     },
     "user_tz": 240
    },
    "id": "tDflDwWJ95vP",
    "outputId": "a1a8cc81-11b7-44e4-ae08-04d03d680f78"
   },
   "outputs": [
    {
     "data": {
      "text/html": [
       "<div>\n",
       "<style scoped>\n",
       "    .dataframe tbody tr th:only-of-type {\n",
       "        vertical-align: middle;\n",
       "    }\n",
       "\n",
       "    .dataframe tbody tr th {\n",
       "        vertical-align: top;\n",
       "    }\n",
       "\n",
       "    .dataframe thead th {\n",
       "        text-align: right;\n",
       "    }\n",
       "</style>\n",
       "<table border=\"1\" class=\"dataframe\">\n",
       "  <thead>\n",
       "    <tr style=\"text-align: right;\">\n",
       "      <th></th>\n",
       "      <th>name_combine</th>\n",
       "      <th>name_first</th>\n",
       "      <th>name_last</th>\n",
       "      <th>race</th>\n",
       "      <th>gender</th>\n",
       "    </tr>\n",
       "  </thead>\n",
       "  <tbody>\n",
       "    <tr>\n",
       "      <th>0</th>\n",
       "      <td>Sarah Rahim</td>\n",
       "      <td>Sarah</td>\n",
       "      <td>Rahim</td>\n",
       "      <td>2</td>\n",
       "      <td>F</td>\n",
       "    </tr>\n",
       "    <tr>\n",
       "      <th>1</th>\n",
       "      <td>Amy Mai</td>\n",
       "      <td>Amy</td>\n",
       "      <td>Mai</td>\n",
       "      <td>2</td>\n",
       "      <td>F</td>\n",
       "    </tr>\n",
       "    <tr>\n",
       "      <th>2</th>\n",
       "      <td>Sarah Tsang</td>\n",
       "      <td>Sarah</td>\n",
       "      <td>Tsang</td>\n",
       "      <td>2</td>\n",
       "      <td>F</td>\n",
       "    </tr>\n",
       "    <tr>\n",
       "      <th>3</th>\n",
       "      <td>Neelima Gopal</td>\n",
       "      <td>Neelima</td>\n",
       "      <td>Gopal</td>\n",
       "      <td>2</td>\n",
       "      <td>F</td>\n",
       "    </tr>\n",
       "    <tr>\n",
       "      <th>4</th>\n",
       "      <td>Maria Luna</td>\n",
       "      <td>Maria</td>\n",
       "      <td>Luna</td>\n",
       "      <td>2</td>\n",
       "      <td>F</td>\n",
       "    </tr>\n",
       "    <tr>\n",
       "      <th>...</th>\n",
       "      <td>...</td>\n",
       "      <td>...</td>\n",
       "      <td>...</td>\n",
       "      <td>...</td>\n",
       "      <td>...</td>\n",
       "    </tr>\n",
       "    <tr>\n",
       "      <th>837051</th>\n",
       "      <td>Michael Ambrose</td>\n",
       "      <td>Michael</td>\n",
       "      <td>Ambrose</td>\n",
       "      <td>5</td>\n",
       "      <td>M</td>\n",
       "    </tr>\n",
       "    <tr>\n",
       "      <th>837052</th>\n",
       "      <td>Duane Campbell</td>\n",
       "      <td>Duane</td>\n",
       "      <td>Campbell</td>\n",
       "      <td>5</td>\n",
       "      <td>M</td>\n",
       "    </tr>\n",
       "    <tr>\n",
       "      <th>837053</th>\n",
       "      <td>Stephen Rosenfeld</td>\n",
       "      <td>Stephen</td>\n",
       "      <td>Rosenfeld</td>\n",
       "      <td>5</td>\n",
       "      <td>M</td>\n",
       "    </tr>\n",
       "    <tr>\n",
       "      <th>837054</th>\n",
       "      <td>Gregory Lynch</td>\n",
       "      <td>Gregory</td>\n",
       "      <td>Lynch</td>\n",
       "      <td>5</td>\n",
       "      <td>M</td>\n",
       "    </tr>\n",
       "    <tr>\n",
       "      <th>837055</th>\n",
       "      <td>Geoffrey Coates</td>\n",
       "      <td>Geoffrey</td>\n",
       "      <td>Coates</td>\n",
       "      <td>5</td>\n",
       "      <td>M</td>\n",
       "    </tr>\n",
       "  </tbody>\n",
       "</table>\n",
       "<p>837056 rows × 5 columns</p>\n",
       "</div>"
      ],
      "text/plain": [
       "             name_combine name_first  name_last  race gender\n",
       "0             Sarah Rahim      Sarah      Rahim     2      F\n",
       "1                 Amy Mai        Amy        Mai     2      F\n",
       "2             Sarah Tsang      Sarah      Tsang     2      F\n",
       "3           Neelima Gopal    Neelima      Gopal     2      F\n",
       "4              Maria Luna      Maria       Luna     2      F\n",
       "...                   ...        ...        ...   ...    ...\n",
       "837051    Michael Ambrose    Michael    Ambrose     5      M\n",
       "837052     Duane Campbell      Duane   Campbell     5      M\n",
       "837053  Stephen Rosenfeld    Stephen  Rosenfeld     5      M\n",
       "837054      Gregory Lynch    Gregory      Lynch     5      M\n",
       "837055    Geoffrey Coates   Geoffrey     Coates     5      M\n",
       "\n",
       "[837056 rows x 5 columns]"
      ]
     },
     "execution_count": 8,
     "metadata": {},
     "output_type": "execute_result"
    }
   ],
   "source": [
    "df"
   ]
  },
  {
   "cell_type": "code",
   "execution_count": 9,
   "metadata": {
    "executionInfo": {
     "elapsed": 8,
     "status": "ok",
     "timestamp": 1630415562088,
     "user": {
      "displayName": "Fangzhou Xie",
      "photoUrl": "",
      "userId": "15917180334657161129"
     },
     "user_tz": 240
    },
    "id": "4KgkSMG3-HDZ"
   },
   "outputs": [],
   "source": [
    "# create ASCII dictionary\n",
    "chars = ['E'] + [chr(i) for i in range(97,123)] + [' ', 'U']\n",
    "id2char = {i:j for i,j in enumerate(chars)}\n",
    "char2id = {j:i for i,j in enumerate(chars)}"
   ]
  },
  {
   "cell_type": "code",
   "execution_count": 10,
   "metadata": {
    "executionInfo": {
     "elapsed": 8,
     "status": "ok",
     "timestamp": 1630415562089,
     "user": {
      "displayName": "Fangzhou Xie",
      "photoUrl": "",
      "userId": "15917180334657161129"
     },
     "user_tz": 240
    },
    "id": "p4_Ezcz9_dS1"
   },
   "outputs": [],
   "source": [
    "# the characters here are all ASCII, good\n",
    "# for name in df['name_combine'].tolist():\n",
    "#     namechars = list(name)\n",
    "#     for nc in namechars:\n",
    "#         if nc not in char2id:\n",
    "#             print(nc)"
   ]
  },
  {
   "cell_type": "code",
   "execution_count": 11,
   "metadata": {
    "executionInfo": {
     "elapsed": 7,
     "status": "ok",
     "timestamp": 1630415562089,
     "user": {
      "displayName": "Fangzhou Xie",
      "photoUrl": "",
      "userId": "15917180334657161129"
     },
     "user_tz": 240
    },
    "id": "5QnywdgANNCo"
   },
   "outputs": [],
   "source": [
    "def name2id(name, l = 10):\n",
    "    ids = [0] * l\n",
    "    for i, c in enumerate(name):\n",
    "        if i < l:\n",
    "            if c.isalpha():\n",
    "                ids[i] = char2id.get(c, char2id['U'])\n",
    "            elif c in string.punctuation:\n",
    "                ids[i] = char2id.get(c, char2id[' '])\n",
    "            else:\n",
    "                ids[i] = char2id.get(c, char2id['U'])\n",
    "    return ids"
   ]
  },
  {
   "cell_type": "code",
   "execution_count": 12,
   "metadata": {
    "executionInfo": {
     "elapsed": 5314,
     "status": "ok",
     "timestamp": 1630415567396,
     "user": {
      "displayName": "Fangzhou Xie",
      "photoUrl": "",
      "userId": "15917180334657161129"
     },
     "user_tz": 240
    },
    "id": "S8-cTDqCMl2T"
   },
   "outputs": [],
   "source": [
    "X = [name2id(fn.lower()) + name2id(ln.lower()) for fn, ln in zip(df['name_first'], df['name_last'])]\n",
    "y = [int(i) for i in df['race'].tolist()]"
   ]
  },
  {
   "cell_type": "code",
   "execution_count": 13,
   "metadata": {
    "executionInfo": {
     "elapsed": 14,
     "status": "ok",
     "timestamp": 1630415567398,
     "user": {
      "displayName": "Fangzhou Xie",
      "photoUrl": "",
      "userId": "15917180334657161129"
     },
     "user_tz": 240
    },
    "id": "GaFlIZS4QXTP"
   },
   "outputs": [],
   "source": [
    "# convert the output (y) from 2-5 to 0-3\n",
    "y = [i-2 for i in y]"
   ]
  },
  {
   "cell_type": "code",
   "execution_count": 14,
   "metadata": {
    "executionInfo": {
     "elapsed": 551,
     "status": "ok",
     "timestamp": 1630415567936,
     "user": {
      "displayName": "Fangzhou Xie",
      "photoUrl": "",
      "userId": "15917180334657161129"
     },
     "user_tz": 240
    },
    "id": "z4_-WcyAQXTP"
   },
   "outputs": [],
   "source": [
    "# Split train and test dataset\n",
    "X_train, X_test, y_train, y_test = train_test_split(X, y, test_size=0.2, random_state=0)"
   ]
  },
  {
   "cell_type": "code",
   "execution_count": 15,
   "metadata": {
    "colab": {
     "base_uri": "https://localhost:8080/"
    },
    "executionInfo": {
     "elapsed": 5,
     "status": "ok",
     "timestamp": 1630415567937,
     "user": {
      "displayName": "Fangzhou Xie",
      "photoUrl": "",
      "userId": "15917180334657161129"
     },
     "user_tz": 240
    },
    "id": "e8CsGdf1BIUf",
    "outputId": "337fc4a3-f480-46d9-c393-17be7a920aba"
   },
   "outputs": [
    {
     "name": "stdout",
     "output_type": "stream",
     "text": [
      "distribution of all data points {0: 209264, 1: 209264, 2: 209264, 3: 209264}\n",
      "distribution of all training data {0: 167403, 1: 167360, 2: 167324, 3: 167557}\n",
      "distribution of all testing data {0: 41861, 1: 41904, 2: 41940, 3: 41707}\n"
     ]
    }
   ],
   "source": [
    "# check the distribution\n",
    "print('distribution of all data points', {i: y.count(i) for i in set(y)})\n",
    "print('distribution of all training data', {i: y_train.count(i) for i in set(y)})\n",
    "print('distribution of all testing data', {i: y_test.count(i) for i in set(y)})"
   ]
  },
  {
   "cell_type": "markdown",
   "metadata": {
    "id": "Dj_Z8WulSnvZ"
   },
   "source": [
    "# Train the model"
   ]
  },
  {
   "cell_type": "code",
   "execution_count": 16,
   "metadata": {
    "colab": {
     "base_uri": "https://localhost:8080/"
    },
    "executionInfo": {
     "elapsed": 4843,
     "status": "ok",
     "timestamp": 1630415572898,
     "user": {
      "displayName": "Fangzhou Xie",
      "photoUrl": "",
      "userId": "15917180334657161129"
     },
     "user_tz": 240
    },
    "id": "EWw0_KaPMz0P",
    "outputId": "ce5fc45a-b618-4cab-d687-c7416562f0d1"
   },
   "outputs": [
    {
     "name": "stdout",
     "output_type": "stream",
     "text": [
      "669644 train sequences\n",
      "167412 test sequences\n",
      "Pad sequences (samples x time)\n",
      "X_train shape: (669644, 20)\n",
      "X_test shape: (167412, 20)\n",
      "4 classes\n",
      "Convert class vector to binary class matrix (for use with categorical_crossentropy)\n",
      "y_train shape: (669644, 4)\n",
      "y_test shape: (167412, 4)\n"
     ]
    }
   ],
   "source": [
    "from tensorflow.keras.preprocessing import sequence\n",
    "from tensorflow.keras.models import Sequential\n",
    "from tensorflow.keras.layers import Dense, Embedding\n",
    "from tensorflow.keras.layers import LSTM, Bidirectional\n",
    "\n",
    "num_words = len(id2char)\n",
    "feature_len = 20 # cut texts after this number of words (among top max_features most common words)\n",
    "batch_size = 512\n",
    "\n",
    "print(len(X_train), 'train sequences')\n",
    "print(len(X_test), 'test sequences')\n",
    "\n",
    "print('Pad sequences (samples x time)')\n",
    "X_train = sequence.pad_sequences(X_train, maxlen=feature_len)\n",
    "X_test = sequence.pad_sequences(X_test, maxlen=feature_len)\n",
    "print('X_train shape:', X_train.shape)\n",
    "print('X_test shape:', X_test.shape)\n",
    "\n",
    "num_classes = 4 # np.max(y_train) + 1\n",
    "print(num_classes, 'classes')\n",
    "\n",
    "print('Convert class vector to binary class matrix '\n",
    "      '(for use with categorical_crossentropy)')\n",
    "y_train = keras.utils.to_categorical(y_train, num_classes)\n",
    "y_test = keras.utils.to_categorical(y_test, num_classes)\n",
    "print('y_train shape:', y_train.shape)\n",
    "print('y_test shape:', y_test.shape)"
   ]
  },
  {
   "cell_type": "code",
   "execution_count": 17,
   "metadata": {
    "colab": {
     "base_uri": "https://localhost:8080/"
    },
    "executionInfo": {
     "elapsed": 4815460,
     "status": "ok",
     "timestamp": 1630420388354,
     "user": {
      "displayName": "Fangzhou Xie",
      "photoUrl": "",
      "userId": "15917180334657161129"
     },
     "user_tz": 240
    },
    "id": "1nvOzuySY3LJ",
    "outputId": "80c6352b-2f4f-46f0-b20f-39a8a4d6feea"
   },
   "outputs": [
    {
     "name": "stdout",
     "output_type": "stream",
     "text": [
      "Epoch 1/10\n",
      "1047/1047 [==============================] - 484s 451ms/step - loss: 0.9208 - accuracy: 0.6113 - val_loss: 0.7575 - val_accuracy: 0.7003\n",
      "Epoch 2/10\n",
      "1047/1047 [==============================] - 475s 453ms/step - loss: 0.7008 - accuracy: 0.7282 - val_loss: 0.6569 - val_accuracy: 0.7494\n",
      "Epoch 3/10\n",
      "1047/1047 [==============================] - 475s 454ms/step - loss: 0.6244 - accuracy: 0.7641 - val_loss: 0.6216 - val_accuracy: 0.7667\n",
      "Epoch 4/10\n",
      "1047/1047 [==============================] - 475s 454ms/step - loss: 0.5793 - accuracy: 0.7834 - val_loss: 0.6028 - val_accuracy: 0.7756\n",
      "Epoch 5/10\n",
      "1047/1047 [==============================] - 474s 453ms/step - loss: 0.5440 - accuracy: 0.7983 - val_loss: 0.5955 - val_accuracy: 0.7813\n",
      "Epoch 6/10\n",
      "1047/1047 [==============================] - 476s 454ms/step - loss: 0.5120 - accuracy: 0.8105 - val_loss: 0.5986 - val_accuracy: 0.7835\n",
      "Epoch 7/10\n",
      "1047/1047 [==============================] - 476s 454ms/step - loss: 0.4831 - accuracy: 0.8214 - val_loss: 0.6072 - val_accuracy: 0.7826\n",
      "Epoch 8/10\n",
      "1047/1047 [==============================] - 476s 454ms/step - loss: 0.4562 - accuracy: 0.8311 - val_loss: 0.6225 - val_accuracy: 0.7811\n",
      "Epoch 9/10\n",
      "1047/1047 [==============================] - 475s 454ms/step - loss: 0.4317 - accuracy: 0.8388 - val_loss: 0.6382 - val_accuracy: 0.7795\n",
      "Epoch 10/10\n",
      "1047/1047 [==============================] - 475s 454ms/step - loss: 0.4087 - accuracy: 0.8468 - val_loss: 0.6620 - val_accuracy: 0.7780\n",
      "327/327 [==============================] - 48s 147ms/step - loss: 0.6644 - accuracy: 0.7774\n"
     ]
    }
   ],
   "source": [
    "# simple train-test\n",
    "# first build\n",
    "model = Sequential()\n",
    "model.add(Embedding(num_words, 256, input_length=feature_len))\n",
    "# try out bi-directional LSTM\n",
    "model.add(Bidirectional(LSTM(512, return_sequences=True, dropout=0.2)))\n",
    "model.add(Bidirectional(LSTM(512, return_sequences=True, dropout=0.2)))\n",
    "model.add(Bidirectional(LSTM(512, return_sequences=True, dropout=0.2)))\n",
    "model.add(Bidirectional(LSTM(512, dropout=0.2)))\n",
    "model.add(Dense(num_classes, activation='softmax'))\n",
    "\n",
    "# choose between learning rates\n",
    "model.compile(optimizer=tf.keras.optimizers.Adam(learning_rate=1e-3),\n",
    "              loss='categorical_crossentropy',\n",
    "              metrics=['accuracy'])\n",
    "\n",
    "callback = tf.keras.callbacks.EarlyStopping(monitor='loss', patience=3)\n",
    "\n",
    "# train model\n",
    "model.fit(X_train, y_train, batch_size=batch_size, epochs=10, validation_split=0.2, verbose=1, callbacks=[callback])\n",
    "score, acc = model.evaluate(X_test, y_test, batch_size=batch_size, verbose=1)"
   ]
  },
  {
   "cell_type": "code",
   "execution_count": 18,
   "metadata": {
    "colab": {
     "base_uri": "https://localhost:8080/"
    },
    "executionInfo": {
     "elapsed": 51156,
     "status": "ok",
     "timestamp": 1630420439496,
     "user": {
      "displayName": "Fangzhou Xie",
      "photoUrl": "",
      "userId": "15917180334657161129"
     },
     "user_tz": 240
    },
    "id": "U-6NPzoJkE-C",
    "outputId": "dad83e52-2f2d-4a42-ec76-4121803d0ff3"
   },
   "outputs": [
    {
     "name": "stdout",
     "output_type": "stream",
     "text": [
      "327/327 [==============================] - 50s 148ms/step\n",
      "              precision    recall  f1-score   support\n",
      "\n",
      "           0       0.86      0.76      0.81     41861\n",
      "           1       0.76      0.73      0.75     41904\n",
      "           2       0.85      0.87      0.86     41940\n",
      "           3       0.66      0.74      0.70     41707\n",
      "\n",
      "    accuracy                           0.78    167412\n",
      "   macro avg       0.78      0.78      0.78    167412\n",
      "weighted avg       0.78      0.78      0.78    167412\n",
      "\n",
      "[[31824  2338  2980  4719]\n",
      " [ 1461 30797  1110  8536]\n",
      " [ 1706  1062 36637  2535]\n",
      " [ 1943  6496  2386 30882]]\n"
     ]
    }
   ],
   "source": [
    "# now lets' test\n",
    "y_pred = model.predict(X_test, batch_size=batch_size, verbose=1)\n",
    "y_pred_bool = np.argmax(y_pred, axis=1)\n",
    "\n",
    "print(classification_report(np.argmax(y_test, axis=1), y_pred_bool))\n",
    "print(confusion_matrix(np.argmax(y_test, axis=1), y_pred_bool))"
   ]
  },
  {
   "cell_type": "code",
   "execution_count": 19,
   "metadata": {
    "executionInfo": {
     "elapsed": 7763,
     "status": "ok",
     "timestamp": 1630420448877,
     "user": {
      "displayName": "Fangzhou Xie",
      "photoUrl": "",
      "userId": "15917180334657161129"
     },
     "user_tz": 240
    },
    "id": "VgQrbQybMGEZ"
   },
   "outputs": [],
   "source": [
    "model.save('fullname_aligned.h5', include_optimizer=False)\n",
    "model.save('fullname_aligned_opt.h5')"
   ]
  },
  {
   "cell_type": "markdown",
   "metadata": {
    "id": "p0u9yV6N2jl9"
   },
   "source": [
    "# Distill the Model"
   ]
  },
  {
   "cell_type": "code",
   "execution_count": 20,
   "metadata": {
    "executionInfo": {
     "elapsed": 14,
     "status": "ok",
     "timestamp": 1630420448879,
     "user": {
      "displayName": "Fangzhou Xie",
      "photoUrl": "",
      "userId": "15917180334657161129"
     },
     "user_tz": 240
    },
    "id": "lpKLoGXWoOPJ"
   },
   "outputs": [],
   "source": [
    "# TODO: shall we try model distillation for compressing the model size?\n",
    "# so that we will have smaller model to work with\n",
    "class Distiller(keras.Model):\n",
    "    def __init__(self, student, teacher):\n",
    "        super(Distiller, self).__init__()\n",
    "        self.teacher = teacher\n",
    "        self.student = student\n",
    "\n",
    "    def compile(\n",
    "        self,\n",
    "        optimizer,\n",
    "        metrics,\n",
    "        student_loss_fn,\n",
    "        distillation_loss_fn,\n",
    "        alpha=0.1,\n",
    "        temperature=3,\n",
    "    ):\n",
    "        \"\"\" Configure the distiller.\n",
    "\n",
    "        Args:\n",
    "            optimizer: Keras optimizer for the student weights\n",
    "            metrics: Keras metrics for evaluation\n",
    "            student_loss_fn: Loss function of difference between student\n",
    "                predictions and ground-truth\n",
    "            distillation_loss_fn: Loss function of difference between soft\n",
    "                student predictions and soft teacher predictions\n",
    "            alpha: weight to student_loss_fn and 1-alpha to distillation_loss_fn\n",
    "            temperature: Temperature for softening probability distributions.\n",
    "                Larger temperature gives softer distributions.\n",
    "        \"\"\"\n",
    "        super(Distiller, self).compile(optimizer=optimizer, metrics=metrics)\n",
    "        self.student_loss_fn = student_loss_fn\n",
    "        self.distillation_loss_fn = distillation_loss_fn\n",
    "        self.alpha = alpha\n",
    "        self.temperature = temperature\n",
    "\n",
    "    def train_step(self, data):\n",
    "        # Unpack data\n",
    "        x, y = data\n",
    "\n",
    "        # Forward pass of teacher\n",
    "        teacher_predictions = self.teacher(x, training=False)\n",
    "\n",
    "        with tf.GradientTape() as tape:\n",
    "            # Forward pass of student\n",
    "            student_predictions = self.student(x, training=True)\n",
    "\n",
    "            # Compute losses\n",
    "            student_loss = self.student_loss_fn(y, student_predictions)\n",
    "            distillation_loss = self.distillation_loss_fn(\n",
    "                tf.nn.softmax(teacher_predictions / self.temperature, axis=1),\n",
    "                tf.nn.softmax(student_predictions / self.temperature, axis=1),\n",
    "            )\n",
    "            loss = self.alpha * student_loss + (1 - self.alpha) * distillation_loss\n",
    "\n",
    "        # Compute gradients\n",
    "        trainable_vars = self.student.trainable_variables\n",
    "        gradients = tape.gradient(loss, trainable_vars)\n",
    "\n",
    "        # Update weights\n",
    "        self.optimizer.apply_gradients(zip(gradients, trainable_vars))\n",
    "\n",
    "        # Update the metrics configured in `compile()`.\n",
    "        self.compiled_metrics.update_state(y, student_predictions)\n",
    "\n",
    "        # Return a dict of performance\n",
    "        results = {m.name: m.result() for m in self.metrics}\n",
    "        results.update(\n",
    "            {\"student_loss\": student_loss, \"distillation_loss\": distillation_loss}\n",
    "        )\n",
    "        return results\n",
    "\n",
    "    def test_step(self, data):\n",
    "        # Unpack the data\n",
    "        x, y = data\n",
    "\n",
    "        # Compute predictions\n",
    "        y_prediction = self.student(x, training=False)\n",
    "\n",
    "        # Calculate the loss\n",
    "        student_loss = self.student_loss_fn(y, y_prediction)\n",
    "\n",
    "        # Update the metrics.\n",
    "        self.compiled_metrics.update_state(y, y_prediction)\n",
    "\n",
    "        # Return a dict of performance\n",
    "        results = {m.name: m.result() for m in self.metrics}\n",
    "        results.update({\"student_loss\": student_loss})\n",
    "        return results"
   ]
  },
  {
   "cell_type": "code",
   "execution_count": 21,
   "metadata": {
    "executionInfo": {
     "elapsed": 1785,
     "status": "ok",
     "timestamp": 1630420450651,
     "user": {
      "displayName": "Fangzhou Xie",
      "photoUrl": "",
      "userId": "15917180334657161129"
     },
     "user_tz": 240
    },
    "id": "X981CoGW2lmo"
   },
   "outputs": [],
   "source": [
    "# Create the student\n",
    "student = keras.Sequential(\n",
    "    [\n",
    "        Embedding(num_words, 32, input_length=feature_len),\n",
    "        Bidirectional(LSTM(16, return_sequences=True, dropout=0.2)),\n",
    "        Bidirectional(LSTM(16, return_sequences=True, dropout=0.2)),\n",
    "        Bidirectional(LSTM(16, return_sequences=True, dropout=0.2)),\n",
    "        Bidirectional(LSTM(16, dropout=0.2)),\n",
    "        Dense(num_classes, activation='softmax')\n",
    "    ],\n",
    "    name=\"student\",\n",
    ")"
   ]
  },
  {
   "cell_type": "code",
   "execution_count": 22,
   "metadata": {
    "colab": {
     "background_save": true,
     "base_uri": "https://localhost:8080/"
    },
    "executionInfo": {
     "elapsed": 3648019,
     "status": "ok",
     "timestamp": 1630448432893,
     "user": {
      "displayName": "Fangzhou Xie",
      "photoUrl": "",
      "userId": "15917180334657161129"
     },
     "user_tz": 240
    },
    "id": "PjFVdBqx2xbz"
   },
   "outputs": [
    {
     "name": "stdout",
     "output_type": "stream",
     "text": [
      "Epoch 1/40\n",
      "20927/20927 [==============================] - 693s 32ms/step - categorical_accuracy: 0.6034 - student_loss: 0.9379 - distillation_loss: 3.7233e-04\n",
      "Epoch 2/40\n",
      "20927/20927 [==============================] - 707s 34ms/step - categorical_accuracy: 0.6674 - student_loss: 0.8243 - distillation_loss: 2.9024e-04\n",
      "Epoch 3/40\n",
      "20927/20927 [==============================] - 708s 34ms/step - categorical_accuracy: 0.6830 - student_loss: 0.7935 - distillation_loss: 2.6745e-04\n",
      "Epoch 4/40\n",
      "20927/20927 [==============================] - 715s 34ms/step - categorical_accuracy: 0.6910 - student_loss: 0.7768 - distillation_loss: 2.5557e-04\n",
      "Epoch 5/40\n",
      "20927/20927 [==============================] - 713s 34ms/step - categorical_accuracy: 0.6962 - student_loss: 0.7667 - distillation_loss: 2.4801e-04\n",
      "Epoch 6/40\n",
      "20927/20927 [==============================] - 710s 34ms/step - categorical_accuracy: 0.6998 - student_loss: 0.7603 - distillation_loss: 2.4307e-04\n",
      "Epoch 7/40\n",
      "20927/20927 [==============================] - 709s 34ms/step - categorical_accuracy: 0.7019 - student_loss: 0.7546 - distillation_loss: 2.3917e-04\n",
      "Epoch 8/40\n",
      "20927/20927 [==============================] - 721s 34ms/step - categorical_accuracy: 0.7047 - student_loss: 0.7499 - distillation_loss: 2.3564e-04\n",
      "Epoch 9/40\n",
      "20927/20927 [==============================] - 721s 34ms/step - categorical_accuracy: 0.7062 - student_loss: 0.7466 - distillation_loss: 2.3339e-04\n",
      "Epoch 10/40\n",
      "20927/20927 [==============================] - 724s 35ms/step - categorical_accuracy: 0.7074 - student_loss: 0.7437 - distillation_loss: 2.3120e-04\n",
      "Epoch 11/40\n",
      "20927/20927 [==============================] - 726s 35ms/step - categorical_accuracy: 0.7090 - student_loss: 0.7415 - distillation_loss: 2.2977e-04\n",
      "Epoch 12/40\n",
      "20927/20927 [==============================] - 728s 35ms/step - categorical_accuracy: 0.7099 - student_loss: 0.7393 - distillation_loss: 2.2802e-04\n",
      "Epoch 13/40\n",
      "20927/20927 [==============================] - 697s 33ms/step - categorical_accuracy: 0.7105 - student_loss: 0.7373 - distillation_loss: 2.2682e-04\n",
      "Epoch 14/40\n",
      "20927/20927 [==============================] - 686s 33ms/step - categorical_accuracy: 0.7116 - student_loss: 0.7354 - distillation_loss: 2.2533e-04\n",
      "Epoch 15/40\n",
      "20927/20927 [==============================] - 683s 33ms/step - categorical_accuracy: 0.7126 - student_loss: 0.7335 - distillation_loss: 2.2416e-04\n",
      "Epoch 16/40\n",
      "20927/20927 [==============================] - 681s 33ms/step - categorical_accuracy: 0.7134 - student_loss: 0.7329 - distillation_loss: 2.2348e-04\n",
      "Epoch 17/40\n",
      "20927/20927 [==============================] - 679s 32ms/step - categorical_accuracy: 0.7134 - student_loss: 0.7314 - distillation_loss: 2.2281e-04\n",
      "Epoch 18/40\n",
      "20927/20927 [==============================] - 679s 32ms/step - categorical_accuracy: 0.7138 - student_loss: 0.7301 - distillation_loss: 2.2178e-04\n",
      "Epoch 19/40\n",
      "20927/20927 [==============================] - 680s 32ms/step - categorical_accuracy: 0.7144 - student_loss: 0.7292 - distillation_loss: 2.2109e-04\n",
      "Epoch 20/40\n",
      "20927/20927 [==============================] - 680s 32ms/step - categorical_accuracy: 0.7146 - student_loss: 0.7284 - distillation_loss: 2.2057e-04\n",
      "Epoch 21/40\n",
      "20927/20927 [==============================] - 680s 32ms/step - categorical_accuracy: 0.7153 - student_loss: 0.7274 - distillation_loss: 2.1962e-04\n",
      "Epoch 22/40\n",
      "20927/20927 [==============================] - 680s 32ms/step - categorical_accuracy: 0.7152 - student_loss: 0.7266 - distillation_loss: 2.1894e-04\n",
      "Epoch 23/40\n",
      "20927/20927 [==============================] - 680s 32ms/step - categorical_accuracy: 0.7162 - student_loss: 0.7254 - distillation_loss: 2.1852e-04\n",
      "Epoch 24/40\n",
      "20927/20927 [==============================] - 686s 33ms/step - categorical_accuracy: 0.7164 - student_loss: 0.7246 - distillation_loss: 2.1777e-04\n",
      "Epoch 25/40\n",
      "20927/20927 [==============================] - 693s 33ms/step - categorical_accuracy: 0.7163 - student_loss: 0.7245 - distillation_loss: 2.1766e-04\n",
      "Epoch 26/40\n",
      "20927/20927 [==============================] - 687s 33ms/step - categorical_accuracy: 0.7169 - student_loss: 0.7235 - distillation_loss: 2.1712e-04\n",
      "Epoch 27/40\n",
      "20927/20927 [==============================] - 694s 33ms/step - categorical_accuracy: 0.7174 - student_loss: 0.7228 - distillation_loss: 2.1641e-04\n",
      "Epoch 28/40\n",
      "20927/20927 [==============================] - 710s 34ms/step - categorical_accuracy: 0.7180 - student_loss: 0.7222 - distillation_loss: 2.1617e-04\n",
      "Epoch 29/40\n",
      "20927/20927 [==============================] - 719s 34ms/step - categorical_accuracy: 0.7180 - student_loss: 0.7216 - distillation_loss: 2.1581e-04\n",
      "Epoch 30/40\n",
      "20927/20927 [==============================] - 717s 34ms/step - categorical_accuracy: 0.7180 - student_loss: 0.7213 - distillation_loss: 2.1551e-04\n",
      "Epoch 31/40\n",
      "20927/20927 [==============================] - 717s 34ms/step - categorical_accuracy: 0.7185 - student_loss: 0.7200 - distillation_loss: 2.1493e-04\n",
      "Epoch 32/40\n",
      "20927/20927 [==============================] - 694s 33ms/step - categorical_accuracy: 0.7197 - student_loss: 0.7196 - distillation_loss: 2.1411e-04\n",
      "Epoch 33/40\n",
      "20927/20927 [==============================] - 720s 34ms/step - categorical_accuracy: 0.7190 - student_loss: 0.7192 - distillation_loss: 2.1410e-04\n",
      "Epoch 34/40\n",
      "20927/20927 [==============================] - 692s 33ms/step - categorical_accuracy: 0.7193 - student_loss: 0.7193 - distillation_loss: 2.1410e-04\n",
      "Epoch 35/40\n",
      "20927/20927 [==============================] - 691s 33ms/step - categorical_accuracy: 0.7199 - student_loss: 0.7184 - distillation_loss: 2.1350e-04\n",
      "Epoch 36/40\n",
      "20927/20927 [==============================] - 685s 33ms/step - categorical_accuracy: 0.7198 - student_loss: 0.7182 - distillation_loss: 2.1355e-04\n",
      "Epoch 37/40\n",
      "20927/20927 [==============================] - 684s 33ms/step - categorical_accuracy: 0.7203 - student_loss: 0.7176 - distillation_loss: 2.1297e-04\n",
      "Epoch 38/40\n",
      "20927/20927 [==============================] - 687s 33ms/step - categorical_accuracy: 0.7206 - student_loss: 0.7167 - distillation_loss: 2.1230e-04\n",
      "Epoch 39/40\n",
      "20927/20927 [==============================] - 689s 33ms/step - categorical_accuracy: 0.7204 - student_loss: 0.7163 - distillation_loss: 2.1237e-04\n",
      "Epoch 40/40\n",
      "20927/20927 [==============================] - 693s 33ms/step - categorical_accuracy: 0.7204 - student_loss: 0.7167 - distillation_loss: 2.1232e-04\n",
      "5232/5232 [==============================] - 44s 8ms/step - categorical_accuracy: 0.7372 - student_loss: 0.6842\n"
     ]
    },
    {
     "data": {
      "text/plain": [
       "[0.7372231483459473, 0.5687428116798401]"
      ]
     },
     "execution_count": null,
     "metadata": {},
     "output_type": "execute_result"
    }
   ],
   "source": [
    "# Initialize and compile distiller\n",
    "distiller = Distiller(student=student, teacher=model)\n",
    "distiller.compile(\n",
    "    optimizer=keras.optimizers.Adam(),\n",
    "    metrics=[keras.metrics.CategoricalAccuracy()],\n",
    "    student_loss_fn=keras.losses.CategoricalCrossentropy(),\n",
    "    distillation_loss_fn=keras.losses.KLDivergence(),\n",
    "    alpha=0.1,\n",
    "    temperature=10,\n",
    ")\n",
    "\n",
    "# Distill teacher to student\n",
    "distiller.fit(X_train, y_train, epochs=40)\n",
    "\n",
    "# Evaluate student on test dataset\n",
    "distiller.evaluate(X_test, y_test)"
   ]
  },
  {
   "cell_type": "code",
   "execution_count": null,
   "metadata": {
    "colab": {
     "base_uri": "https://localhost:8080/"
    },
    "id": "dSa_Mz1W24NY",
    "outputId": "2ddeae1f-81c6-4bec-e74f-b7f2f2923983"
   },
   "outputs": [
    {
     "name": "stdout",
     "output_type": "stream",
     "text": [
      " 197/5232 [>.............................] - ETA: 43s"
     ]
    }
   ],
   "source": [
    "y_pred = distiller.student.predict(X_test, batch_size=32, verbose=1)\n",
    "y_pred_bool = np.argmax(y_pred, axis=1)\n",
    "\n",
    "print(classification_report(np.argmax(y_test, axis=1), y_pred_bool))\n",
    "print(confusion_matrix(np.argmax(y_test, axis=1), y_pred_bool))"
   ]
  },
  {
   "cell_type": "code",
   "execution_count": null,
   "metadata": {
    "id": "F2BHkrW929xf"
   },
   "outputs": [],
   "source": [
    "distiller.student.save('fullname_aligned_distill_opt.h5')\n",
    "distiller.student.save('fullname_aligned_distill.h5', include_optimizer=False)"
   ]
  },
  {
   "cell_type": "markdown",
   "metadata": {
    "id": "1Sq0AoaL3oxZ"
   },
   "source": [
    "# Tune the Model"
   ]
  },
  {
   "cell_type": "code",
   "execution_count": null,
   "metadata": {
    "id": "twHc9ikEQXTU"
   },
   "outputs": [],
   "source": [
    "model.summary()"
   ]
  },
  {
   "cell_type": "code",
   "execution_count": null,
   "metadata": {
    "id": "7Bqz-zDjQXTU"
   },
   "outputs": [],
   "source": [
    "model.get_config()"
   ]
  },
  {
   "cell_type": "code",
   "execution_count": null,
   "metadata": {
    "id": "wpWFwcbCQXTU"
   },
   "outputs": [],
   "source": [
    "model.optimizer"
   ]
  },
  {
   "cell_type": "code",
   "execution_count": null,
   "metadata": {
    "id": "2vrwONT8QXTU"
   },
   "outputs": [],
   "source": [
    "from keras import backend as K\n",
    "K.eval(model.optimizer.lr)"
   ]
  },
  {
   "cell_type": "code",
   "execution_count": null,
   "metadata": {
    "id": "lC2QHV06RZ2S"
   },
   "outputs": [],
   "source": [
    "# from google.colab import files\n",
    "# files.download('fullname_2_ethnicity_bilstm.h5') "
   ]
  }
 ],
 "metadata": {
  "accelerator": "GPU",
  "colab": {
   "authorship_tag": "ABX9TyMDf7gefmrLmHPiw9vlpJsf",
   "name": "rethnicity_singlechar_distill_fullname_aligned.ipynb",
   "version": ""
  },
  "kernelspec": {
   "display_name": "Python 3",
   "language": "python",
   "name": "python3"
  },
  "language_info": {
   "codemirror_mode": {
    "name": "ipython",
    "version": 3
   },
   "file_extension": ".py",
   "mimetype": "text/x-python",
   "name": "python",
   "nbconvert_exporter": "python",
   "pygments_lexer": "ipython3",
   "version": "3.8.10"
  }
 },
 "nbformat": 4,
 "nbformat_minor": 1
}
