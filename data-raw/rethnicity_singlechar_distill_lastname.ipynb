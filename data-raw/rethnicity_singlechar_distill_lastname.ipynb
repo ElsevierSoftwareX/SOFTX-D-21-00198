{
 "cells": [
  {
   "cell_type": "code",
   "execution_count": null,
   "metadata": {
    "executionInfo": {
     "elapsed": 7,
     "status": "ok",
     "timestamp": 1630419618414,
     "user": {
      "displayName": "Fangzhou Xie",
      "photoUrl": "",
      "userId": "15917180334657161129"
     },
     "user_tz": 240
    },
    "id": "ooXT6wF7y7X3"
   },
   "outputs": [],
   "source": []
  },
  {
   "cell_type": "markdown",
   "metadata": {
    "id": "VrZSl73d9aEw"
   },
   "source": [
    "rethnicity: single-character level embedding\n",
    "---\n",
    "\n"
   ]
  },
  {
   "cell_type": "code",
   "execution_count": 1,
   "metadata": {
    "executionInfo": {
     "elapsed": 6,
     "status": "ok",
     "timestamp": 1630419618415,
     "user": {
      "displayName": "Fangzhou Xie",
      "photoUrl": "",
      "userId": "15917180334657161129"
     },
     "user_tz": 240
    },
    "id": "taMAZqezgDun"
   },
   "outputs": [],
   "source": [
    "# change keras default GPU\n",
    "# os.environ[\"CUDA_VISIBLE_DEVICES\"]=\"0\" # first gpu\n",
    "# os.environ[\"CUDA_VISIBLE_DEVICES\"]=\"1\" # second gpu\n",
    "# os.environ[\"CUDA_VISIBLE_DEVICES\"] = \"-1\" # runs in cpu"
   ]
  },
  {
   "cell_type": "code",
   "execution_count": 2,
   "metadata": {
    "executionInfo": {
     "elapsed": 5,
     "status": "ok",
     "timestamp": 1630419618415,
     "user": {
      "displayName": "Fangzhou Xie",
      "photoUrl": "",
      "userId": "15917180334657161129"
     },
     "user_tz": 240
    },
    "id": "SPIPSqox9Wcb"
   },
   "outputs": [],
   "source": [
    "# pip install keras-tuner"
   ]
  },
  {
   "cell_type": "code",
   "execution_count": 3,
   "metadata": {
    "colab": {
     "base_uri": "https://localhost:8080/"
    },
    "executionInfo": {
     "elapsed": 903280,
     "status": "ok",
     "timestamp": 1630420521690,
     "user": {
      "displayName": "Fangzhou Xie",
      "photoUrl": "",
      "userId": "15917180334657161129"
     },
     "user_tz": 240
    },
    "id": "24HWCEA89jk_",
    "outputId": "602aece2-5a3c-4149-a205-5fc4264ebf44"
   },
   "outputs": [
    {
     "name": "stdout",
     "output_type": "stream",
     "text": [
      "Mounted at /content/drive\n"
     ]
    }
   ],
   "source": [
    "from google.colab import drive\n",
    "drive.mount('/content/drive')"
   ]
  },
  {
   "cell_type": "code",
   "execution_count": 4,
   "metadata": {
    "colab": {
     "base_uri": "https://localhost:8080/"
    },
    "executionInfo": {
     "elapsed": 9,
     "status": "ok",
     "timestamp": 1630420521691,
     "user": {
      "displayName": "Fangzhou Xie",
      "photoUrl": "",
      "userId": "15917180334657161129"
     },
     "user_tz": 240
    },
    "id": "aSEGoTH49pb_",
    "outputId": "50df426b-0274-4d8c-e663-b7e1a489e115"
   },
   "outputs": [
    {
     "name": "stdout",
     "output_type": "stream",
     "text": [
      "/content/drive/MyDrive/rethnicity\n"
     ]
    }
   ],
   "source": [
    "cd drive/MyDrive/rethnicity/"
   ]
  },
  {
   "cell_type": "code",
   "execution_count": 5,
   "metadata": {
    "colab": {
     "base_uri": "https://localhost:8080/"
    },
    "executionInfo": {
     "elapsed": 2561,
     "status": "ok",
     "timestamp": 1630420524247,
     "user": {
      "displayName": "Fangzhou Xie",
      "photoUrl": "",
      "userId": "15917180334657161129"
     },
     "user_tz": 240
    },
    "id": "ZOJP04Jh9vGh",
    "outputId": "50d9359b-e451-40a3-b7af-642862562bf6"
   },
   "outputs": [
    {
     "name": "stdout",
     "output_type": "stream",
     "text": [
      "2.6.0\n"
     ]
    }
   ],
   "source": [
    "import tensorflow.keras as keras\n",
    "import tensorflow as tf\n",
    "print(keras.__version__)\n",
    "#print(tf.__version__)\n",
    "import numpy as np\n",
    "import pandas as pd\n",
    "from sklearn.feature_extraction.text import CountVectorizer\n",
    "from sklearn.model_selection import train_test_split\n",
    "from sklearn.metrics import classification_report, confusion_matrix\n",
    "import string"
   ]
  },
  {
   "cell_type": "code",
   "execution_count": 6,
   "metadata": {
    "executionInfo": {
     "elapsed": 1886,
     "status": "ok",
     "timestamp": 1630420526118,
     "user": {
      "displayName": "Fangzhou Xie",
      "photoUrl": "",
      "userId": "15917180334657161129"
     },
     "user_tz": 240
    },
    "id": "dA4Rg9_e9yFd"
   },
   "outputs": [],
   "source": [
    "df = pd.read_csv('name_undersampled.csv')"
   ]
  },
  {
   "cell_type": "code",
   "execution_count": 7,
   "metadata": {
    "colab": {
     "base_uri": "https://localhost:8080/",
     "height": 419
    },
    "executionInfo": {
     "elapsed": 12,
     "status": "ok",
     "timestamp": 1630420526119,
     "user": {
      "displayName": "Fangzhou Xie",
      "photoUrl": "",
      "userId": "15917180334657161129"
     },
     "user_tz": 240
    },
    "id": "tDflDwWJ95vP",
    "outputId": "dc8936fd-d02f-429b-fbcc-77dbe5658ee2"
   },
   "outputs": [
    {
     "data": {
      "text/html": [
       "<div>\n",
       "<style scoped>\n",
       "    .dataframe tbody tr th:only-of-type {\n",
       "        vertical-align: middle;\n",
       "    }\n",
       "\n",
       "    .dataframe tbody tr th {\n",
       "        vertical-align: top;\n",
       "    }\n",
       "\n",
       "    .dataframe thead th {\n",
       "        text-align: right;\n",
       "    }\n",
       "</style>\n",
       "<table border=\"1\" class=\"dataframe\">\n",
       "  <thead>\n",
       "    <tr style=\"text-align: right;\">\n",
       "      <th></th>\n",
       "      <th>name_combine</th>\n",
       "      <th>name_first</th>\n",
       "      <th>name_last</th>\n",
       "      <th>race</th>\n",
       "      <th>gender</th>\n",
       "    </tr>\n",
       "  </thead>\n",
       "  <tbody>\n",
       "    <tr>\n",
       "      <th>0</th>\n",
       "      <td>Sarah Rahim</td>\n",
       "      <td>Sarah</td>\n",
       "      <td>Rahim</td>\n",
       "      <td>2</td>\n",
       "      <td>F</td>\n",
       "    </tr>\n",
       "    <tr>\n",
       "      <th>1</th>\n",
       "      <td>Amy Mai</td>\n",
       "      <td>Amy</td>\n",
       "      <td>Mai</td>\n",
       "      <td>2</td>\n",
       "      <td>F</td>\n",
       "    </tr>\n",
       "    <tr>\n",
       "      <th>2</th>\n",
       "      <td>Sarah Tsang</td>\n",
       "      <td>Sarah</td>\n",
       "      <td>Tsang</td>\n",
       "      <td>2</td>\n",
       "      <td>F</td>\n",
       "    </tr>\n",
       "    <tr>\n",
       "      <th>3</th>\n",
       "      <td>Neelima Gopal</td>\n",
       "      <td>Neelima</td>\n",
       "      <td>Gopal</td>\n",
       "      <td>2</td>\n",
       "      <td>F</td>\n",
       "    </tr>\n",
       "    <tr>\n",
       "      <th>4</th>\n",
       "      <td>Maria Luna</td>\n",
       "      <td>Maria</td>\n",
       "      <td>Luna</td>\n",
       "      <td>2</td>\n",
       "      <td>F</td>\n",
       "    </tr>\n",
       "    <tr>\n",
       "      <th>...</th>\n",
       "      <td>...</td>\n",
       "      <td>...</td>\n",
       "      <td>...</td>\n",
       "      <td>...</td>\n",
       "      <td>...</td>\n",
       "    </tr>\n",
       "    <tr>\n",
       "      <th>837051</th>\n",
       "      <td>Michael Ambrose</td>\n",
       "      <td>Michael</td>\n",
       "      <td>Ambrose</td>\n",
       "      <td>5</td>\n",
       "      <td>M</td>\n",
       "    </tr>\n",
       "    <tr>\n",
       "      <th>837052</th>\n",
       "      <td>Duane Campbell</td>\n",
       "      <td>Duane</td>\n",
       "      <td>Campbell</td>\n",
       "      <td>5</td>\n",
       "      <td>M</td>\n",
       "    </tr>\n",
       "    <tr>\n",
       "      <th>837053</th>\n",
       "      <td>Stephen Rosenfeld</td>\n",
       "      <td>Stephen</td>\n",
       "      <td>Rosenfeld</td>\n",
       "      <td>5</td>\n",
       "      <td>M</td>\n",
       "    </tr>\n",
       "    <tr>\n",
       "      <th>837054</th>\n",
       "      <td>Gregory Lynch</td>\n",
       "      <td>Gregory</td>\n",
       "      <td>Lynch</td>\n",
       "      <td>5</td>\n",
       "      <td>M</td>\n",
       "    </tr>\n",
       "    <tr>\n",
       "      <th>837055</th>\n",
       "      <td>Geoffrey Coates</td>\n",
       "      <td>Geoffrey</td>\n",
       "      <td>Coates</td>\n",
       "      <td>5</td>\n",
       "      <td>M</td>\n",
       "    </tr>\n",
       "  </tbody>\n",
       "</table>\n",
       "<p>837056 rows × 5 columns</p>\n",
       "</div>"
      ],
      "text/plain": [
       "             name_combine name_first  name_last  race gender\n",
       "0             Sarah Rahim      Sarah      Rahim     2      F\n",
       "1                 Amy Mai        Amy        Mai     2      F\n",
       "2             Sarah Tsang      Sarah      Tsang     2      F\n",
       "3           Neelima Gopal    Neelima      Gopal     2      F\n",
       "4              Maria Luna      Maria       Luna     2      F\n",
       "...                   ...        ...        ...   ...    ...\n",
       "837051    Michael Ambrose    Michael    Ambrose     5      M\n",
       "837052     Duane Campbell      Duane   Campbell     5      M\n",
       "837053  Stephen Rosenfeld    Stephen  Rosenfeld     5      M\n",
       "837054      Gregory Lynch    Gregory      Lynch     5      M\n",
       "837055    Geoffrey Coates   Geoffrey     Coates     5      M\n",
       "\n",
       "[837056 rows x 5 columns]"
      ]
     },
     "execution_count": 7,
     "metadata": {},
     "output_type": "execute_result"
    }
   ],
   "source": [
    "df"
   ]
  },
  {
   "cell_type": "code",
   "execution_count": 8,
   "metadata": {
    "executionInfo": {
     "elapsed": 9,
     "status": "ok",
     "timestamp": 1630420526120,
     "user": {
      "displayName": "Fangzhou Xie",
      "photoUrl": "",
      "userId": "15917180334657161129"
     },
     "user_tz": 240
    },
    "id": "4KgkSMG3-HDZ"
   },
   "outputs": [],
   "source": [
    "# create ASCII dictionary\n",
    "chars = ['E'] + [chr(i) for i in range(97,123)] + [' ', 'U']\n",
    "id2char = {i:j for i,j in enumerate(chars)}\n",
    "char2id = {j:i for i,j in enumerate(chars)}"
   ]
  },
  {
   "cell_type": "code",
   "execution_count": 9,
   "metadata": {
    "executionInfo": {
     "elapsed": 8,
     "status": "ok",
     "timestamp": 1630420526120,
     "user": {
      "displayName": "Fangzhou Xie",
      "photoUrl": "",
      "userId": "15917180334657161129"
     },
     "user_tz": 240
    },
    "id": "p4_Ezcz9_dS1"
   },
   "outputs": [],
   "source": [
    "# the characters here are all ASCII, good\n",
    "# for name in df['name_combine'].tolist():\n",
    "#     namechars = list(name)\n",
    "#     for nc in namechars:\n",
    "#         if nc not in char2id:\n",
    "#             print(nc)"
   ]
  },
  {
   "cell_type": "code",
   "execution_count": 10,
   "metadata": {
    "executionInfo": {
     "elapsed": 8,
     "status": "ok",
     "timestamp": 1630420526121,
     "user": {
      "displayName": "Fangzhou Xie",
      "photoUrl": "",
      "userId": "15917180334657161129"
     },
     "user_tz": 240
    },
    "id": "Q6EsIEJgkttN"
   },
   "outputs": [],
   "source": [
    "def name2id(name, l = 10):\n",
    "    ids = [0] * l # default to 'E'\n",
    "    for i, c in enumerate(name):\n",
    "        if i < l:\n",
    "            if c.isalpha():\n",
    "                ids[i] = char2id.get(c, char2id['U'])\n",
    "            elif c in string.punctuation:\n",
    "                ids[i] = char2id.get(c, char2id[' '])\n",
    "            else:\n",
    "                ids[i] = char2id.get(c, char2id['U'])\n",
    "    return ids"
   ]
  },
  {
   "cell_type": "code",
   "execution_count": 11,
   "metadata": {
    "executionInfo": {
     "elapsed": 3216,
     "status": "ok",
     "timestamp": 1630420529329,
     "user": {
      "displayName": "Fangzhou Xie",
      "photoUrl": "",
      "userId": "15917180334657161129"
     },
     "user_tz": 240
    },
    "id": "nBPDiSchkyT1"
   },
   "outputs": [],
   "source": [
    "X = [name2id(ln.lower()) for ln in df['name_last']]\n",
    "y = [int(i) for i in df['race'].tolist()]"
   ]
  },
  {
   "cell_type": "code",
   "execution_count": 12,
   "metadata": {
    "executionInfo": {
     "elapsed": 15,
     "status": "ok",
     "timestamp": 1630420529330,
     "user": {
      "displayName": "Fangzhou Xie",
      "photoUrl": "",
      "userId": "15917180334657161129"
     },
     "user_tz": 240
    },
    "id": "q5_rsQECBMuE"
   },
   "outputs": [],
   "source": [
    "# X = df['name_last'].tolist()\n",
    "# y = [int(i) for i in df['race'].tolist()]"
   ]
  },
  {
   "cell_type": "code",
   "execution_count": 13,
   "metadata": {
    "executionInfo": {
     "elapsed": 13,
     "status": "ok",
     "timestamp": 1630420529330,
     "user": {
      "displayName": "Fangzhou Xie",
      "photoUrl": "",
      "userId": "15917180334657161129"
     },
     "user_tz": 240
    },
    "id": "RethMnYAQXTO"
   },
   "outputs": [],
   "source": [
    "# convert the input (X) from tokens to ids\n",
    "# X = [[char2id.get(i, char2id['UNK']) for i in each.lower()] for each in X]"
   ]
  },
  {
   "cell_type": "code",
   "execution_count": 14,
   "metadata": {
    "executionInfo": {
     "elapsed": 14,
     "status": "ok",
     "timestamp": 1630420529331,
     "user": {
      "displayName": "Fangzhou Xie",
      "photoUrl": "",
      "userId": "15917180334657161129"
     },
     "user_tz": 240
    },
    "id": "GaFlIZS4QXTP"
   },
   "outputs": [],
   "source": [
    "# convert the output (y) from 2-5 to 0-3\n",
    "y = [i-2 for i in y]"
   ]
  },
  {
   "cell_type": "code",
   "execution_count": 15,
   "metadata": {
    "executionInfo": {
     "elapsed": 445,
     "status": "ok",
     "timestamp": 1630420529763,
     "user": {
      "displayName": "Fangzhou Xie",
      "photoUrl": "",
      "userId": "15917180334657161129"
     },
     "user_tz": 240
    },
    "id": "z4_-WcyAQXTP"
   },
   "outputs": [],
   "source": [
    "# Split train and test dataset\n",
    "X_train,  X_test, y_train, y_test = train_test_split(X, y, test_size=0.2, random_state=0)"
   ]
  },
  {
   "cell_type": "code",
   "execution_count": 16,
   "metadata": {
    "colab": {
     "base_uri": "https://localhost:8080/"
    },
    "executionInfo": {
     "elapsed": 159,
     "status": "ok",
     "timestamp": 1630420529920,
     "user": {
      "displayName": "Fangzhou Xie",
      "photoUrl": "",
      "userId": "15917180334657161129"
     },
     "user_tz": 240
    },
    "id": "e8CsGdf1BIUf",
    "outputId": "2985321a-11e0-48f2-b8b7-e304985e7381"
   },
   "outputs": [
    {
     "name": "stdout",
     "output_type": "stream",
     "text": [
      "distribution of all data points {0: 209264, 1: 209264, 2: 209264, 3: 209264}\n",
      "distribution of all training data {0: 167403, 1: 167360, 2: 167324, 3: 167557}\n",
      "distribution of all testing data {0: 41861, 1: 41904, 2: 41940, 3: 41707}\n"
     ]
    }
   ],
   "source": [
    "# check the distribution\n",
    "print('distribution of all data points', {i: y.count(i) for i in set(y)})\n",
    "print('distribution of all training data', {i: y_train.count(i) for i in set(y)})\n",
    "print('distribution of all testing data', {i: y_test.count(i) for i in set(y)})"
   ]
  },
  {
   "cell_type": "markdown",
   "metadata": {
    "id": "Dj_Z8WulSnvZ"
   },
   "source": [
    "# Train the model"
   ]
  },
  {
   "cell_type": "code",
   "execution_count": 17,
   "metadata": {
    "colab": {
     "base_uri": "https://localhost:8080/"
    },
    "executionInfo": {
     "elapsed": 3879,
     "status": "ok",
     "timestamp": 1630420533797,
     "user": {
      "displayName": "Fangzhou Xie",
      "photoUrl": "",
      "userId": "15917180334657161129"
     },
     "user_tz": 240
    },
    "id": "EWw0_KaPMz0P",
    "outputId": "3971562f-dd56-48e9-b0e0-a811785b8425"
   },
   "outputs": [
    {
     "name": "stdout",
     "output_type": "stream",
     "text": [
      "669644 train sequences\n",
      "167412 test sequences\n",
      "Pad sequences (samples x time)\n",
      "X_train shape: (669644, 10)\n",
      "X_test shape: (167412, 10)\n",
      "4 classes\n",
      "Convert class vector to binary class matrix (for use with categorical_crossentropy)\n",
      "y_train shape: (669644, 4)\n",
      "y_test shape: (167412, 4)\n"
     ]
    }
   ],
   "source": [
    "from tensorflow.keras.preprocessing import sequence\n",
    "from tensorflow.keras.models import Sequential\n",
    "from tensorflow.keras.layers import Dense, Embedding\n",
    "from tensorflow.keras.layers import LSTM, Bidirectional\n",
    "\n",
    "num_words = len(id2char)\n",
    "feature_len = 10 # cut texts after this number of words (among top max_features most common words)\n",
    "batch_size = 512\n",
    "\n",
    "print(len(X_train), 'train sequences')\n",
    "print(len(X_test), 'test sequences')\n",
    "\n",
    "print('Pad sequences (samples x time)')\n",
    "X_train = sequence.pad_sequences(X_train, maxlen=feature_len)\n",
    "X_test = sequence.pad_sequences(X_test, maxlen=feature_len)\n",
    "print('X_train shape:', X_train.shape)\n",
    "print('X_test shape:', X_test.shape)\n",
    "\n",
    "num_classes = 4 # np.max(y_train) + 1\n",
    "print(num_classes, 'classes')\n",
    "\n",
    "print('Convert class vector to binary class matrix '\n",
    "      '(for use with categorical_crossentropy)')\n",
    "y_train = keras.utils.to_categorical(y_train, num_classes)\n",
    "y_test = keras.utils.to_categorical(y_test, num_classes)\n",
    "print('y_train shape:', y_train.shape)\n",
    "print('y_test shape:', y_test.shape)"
   ]
  },
  {
   "cell_type": "code",
   "execution_count": 18,
   "metadata": {
    "colab": {
     "base_uri": "https://localhost:8080/"
    },
    "executionInfo": {
     "elapsed": 9822453,
     "status": "ok",
     "timestamp": 1630430356247,
     "user": {
      "displayName": "Fangzhou Xie",
      "photoUrl": "",
      "userId": "15917180334657161129"
     },
     "user_tz": 240
    },
    "id": "1nvOzuySY3LJ",
    "outputId": "29101295-308f-4225-abf4-33c8e938fa66"
   },
   "outputs": [
    {
     "name": "stdout",
     "output_type": "stream",
     "text": [
      "Epoch 1/40\n",
      "1047/1047 [==============================] - 254s 231ms/step - loss: 0.9806 - accuracy: 0.5793 - val_loss: 0.8796 - val_accuracy: 0.6314\n",
      "Epoch 2/40\n",
      "1047/1047 [==============================] - 244s 233ms/step - loss: 0.8381 - accuracy: 0.6602 - val_loss: 0.7960 - val_accuracy: 0.6852\n",
      "Epoch 3/40\n",
      "1047/1047 [==============================] - 244s 233ms/step - loss: 0.7725 - accuracy: 0.6990 - val_loss: 0.7561 - val_accuracy: 0.7074\n",
      "Epoch 4/40\n",
      "1047/1047 [==============================] - 244s 233ms/step - loss: 0.7304 - accuracy: 0.7214 - val_loss: 0.7367 - val_accuracy: 0.7198\n",
      "Epoch 5/40\n",
      "1047/1047 [==============================] - 244s 233ms/step - loss: 0.6987 - accuracy: 0.7363 - val_loss: 0.7246 - val_accuracy: 0.7275\n",
      "Epoch 6/40\n",
      "1047/1047 [==============================] - 244s 233ms/step - loss: 0.6741 - accuracy: 0.7470 - val_loss: 0.7189 - val_accuracy: 0.7300\n",
      "Epoch 7/40\n",
      "1047/1047 [==============================] - 244s 233ms/step - loss: 0.6524 - accuracy: 0.7557 - val_loss: 0.7240 - val_accuracy: 0.7321\n",
      "Epoch 8/40\n",
      "1047/1047 [==============================] - 244s 233ms/step - loss: 0.6346 - accuracy: 0.7625 - val_loss: 0.7243 - val_accuracy: 0.7341\n",
      "Epoch 9/40\n",
      "1047/1047 [==============================] - 244s 233ms/step - loss: 0.6190 - accuracy: 0.7679 - val_loss: 0.7306 - val_accuracy: 0.7346\n",
      "Epoch 10/40\n",
      "1047/1047 [==============================] - 245s 234ms/step - loss: 0.6059 - accuracy: 0.7718 - val_loss: 0.7367 - val_accuracy: 0.7361\n",
      "Epoch 11/40\n",
      "1047/1047 [==============================] - 244s 233ms/step - loss: 0.5957 - accuracy: 0.7753 - val_loss: 0.7468 - val_accuracy: 0.7347\n",
      "Epoch 12/40\n",
      "1047/1047 [==============================] - 244s 233ms/step - loss: 0.5866 - accuracy: 0.7781 - val_loss: 0.7543 - val_accuracy: 0.7354\n",
      "Epoch 13/40\n",
      "1047/1047 [==============================] - 245s 234ms/step - loss: 0.5787 - accuracy: 0.7805 - val_loss: 0.7630 - val_accuracy: 0.7349\n",
      "Epoch 14/40\n",
      "1047/1047 [==============================] - 245s 234ms/step - loss: 0.5726 - accuracy: 0.7826 - val_loss: 0.7696 - val_accuracy: 0.7348\n",
      "Epoch 15/40\n",
      "1047/1047 [==============================] - 244s 233ms/step - loss: 0.5668 - accuracy: 0.7838 - val_loss: 0.7781 - val_accuracy: 0.7350\n",
      "Epoch 16/40\n",
      "1047/1047 [==============================] - 244s 233ms/step - loss: 0.5621 - accuracy: 0.7855 - val_loss: 0.7864 - val_accuracy: 0.7350\n",
      "Epoch 17/40\n",
      "1047/1047 [==============================] - 244s 233ms/step - loss: 0.5580 - accuracy: 0.7867 - val_loss: 0.7965 - val_accuracy: 0.7343\n",
      "Epoch 18/40\n",
      "1047/1047 [==============================] - 245s 234ms/step - loss: 0.5552 - accuracy: 0.7873 - val_loss: 0.8017 - val_accuracy: 0.7349\n",
      "Epoch 19/40\n",
      "1047/1047 [==============================] - 245s 234ms/step - loss: 0.5519 - accuracy: 0.7882 - val_loss: 0.8060 - val_accuracy: 0.7350\n",
      "Epoch 20/40\n",
      "1047/1047 [==============================] - 245s 234ms/step - loss: 0.5491 - accuracy: 0.7887 - val_loss: 0.8129 - val_accuracy: 0.7335\n",
      "Epoch 21/40\n",
      "1047/1047 [==============================] - 245s 234ms/step - loss: 0.5469 - accuracy: 0.7892 - val_loss: 0.8187 - val_accuracy: 0.7350\n",
      "Epoch 22/40\n",
      "1047/1047 [==============================] - 244s 233ms/step - loss: 0.5444 - accuracy: 0.7900 - val_loss: 0.8158 - val_accuracy: 0.7350\n",
      "Epoch 23/40\n",
      "1047/1047 [==============================] - 245s 234ms/step - loss: 0.5433 - accuracy: 0.7908 - val_loss: 0.8333 - val_accuracy: 0.7346\n",
      "Epoch 24/40\n",
      "1047/1047 [==============================] - 245s 234ms/step - loss: 0.5410 - accuracy: 0.7914 - val_loss: 0.8253 - val_accuracy: 0.7348\n",
      "Epoch 25/40\n",
      "1047/1047 [==============================] - 245s 234ms/step - loss: 0.5395 - accuracy: 0.7915 - val_loss: 0.8396 - val_accuracy: 0.7335\n",
      "Epoch 26/40\n",
      "1047/1047 [==============================] - 244s 234ms/step - loss: 0.5379 - accuracy: 0.7921 - val_loss: 0.8466 - val_accuracy: 0.7342\n",
      "Epoch 27/40\n",
      "1047/1047 [==============================] - 244s 233ms/step - loss: 0.5376 - accuracy: 0.7925 - val_loss: 0.8317 - val_accuracy: 0.7349\n",
      "Epoch 28/40\n",
      "1047/1047 [==============================] - 245s 234ms/step - loss: 0.5354 - accuracy: 0.7926 - val_loss: 0.8490 - val_accuracy: 0.7326\n",
      "Epoch 29/40\n",
      "1047/1047 [==============================] - 245s 234ms/step - loss: 0.5353 - accuracy: 0.7928 - val_loss: 0.8407 - val_accuracy: 0.7339\n",
      "Epoch 30/40\n",
      "1047/1047 [==============================] - 244s 233ms/step - loss: 0.5346 - accuracy: 0.7927 - val_loss: 0.8434 - val_accuracy: 0.7326\n",
      "Epoch 31/40\n",
      "1047/1047 [==============================] - 244s 233ms/step - loss: 0.5334 - accuracy: 0.7935 - val_loss: 0.8549 - val_accuracy: 0.7335\n",
      "Epoch 32/40\n",
      "1047/1047 [==============================] - 245s 234ms/step - loss: 0.5328 - accuracy: 0.7936 - val_loss: 0.8560 - val_accuracy: 0.7337\n",
      "Epoch 33/40\n",
      "1047/1047 [==============================] - 245s 234ms/step - loss: 0.5325 - accuracy: 0.7937 - val_loss: 0.8623 - val_accuracy: 0.7336\n",
      "Epoch 34/40\n",
      "1047/1047 [==============================] - 245s 234ms/step - loss: 0.5320 - accuracy: 0.7935 - val_loss: 0.8654 - val_accuracy: 0.7329\n",
      "Epoch 35/40\n",
      "1047/1047 [==============================] - 245s 234ms/step - loss: 0.5315 - accuracy: 0.7938 - val_loss: 0.8617 - val_accuracy: 0.7331\n",
      "Epoch 36/40\n",
      "1047/1047 [==============================] - 245s 234ms/step - loss: 0.5306 - accuracy: 0.7940 - val_loss: 0.8566 - val_accuracy: 0.7331\n",
      "Epoch 37/40\n",
      "1047/1047 [==============================] - 244s 233ms/step - loss: 0.5308 - accuracy: 0.7939 - val_loss: 0.8664 - val_accuracy: 0.7330\n",
      "Epoch 38/40\n",
      "1047/1047 [==============================] - 245s 234ms/step - loss: 0.5291 - accuracy: 0.7946 - val_loss: 0.8631 - val_accuracy: 0.7346\n",
      "Epoch 39/40\n",
      "1047/1047 [==============================] - 245s 234ms/step - loss: 0.5298 - accuracy: 0.7944 - val_loss: 0.8673 - val_accuracy: 0.7341\n",
      "Epoch 40/40\n",
      "1047/1047 [==============================] - 245s 234ms/step - loss: 0.5288 - accuracy: 0.7946 - val_loss: 0.8708 - val_accuracy: 0.7337\n",
      "327/327 [==============================] - 25s 76ms/step - loss: 0.8870 - accuracy: 0.7315\n"
     ]
    }
   ],
   "source": [
    "# simple train-test\n",
    "# first build\n",
    "model = Sequential()\n",
    "model.add(Embedding(num_words, 256, input_length=feature_len))\n",
    "# try out bi-directional LSTM\n",
    "model.add(Bidirectional(LSTM(512, return_sequences=True, dropout=0.2)))\n",
    "model.add(Bidirectional(LSTM(512, return_sequences=True, dropout=0.2)))\n",
    "model.add(Bidirectional(LSTM(512, return_sequences=True, dropout=0.2)))\n",
    "model.add(Bidirectional(LSTM(512, dropout=0.2)))\n",
    "model.add(Dense(num_classes, activation='softmax'))\n",
    "\n",
    "# choose between learning rates\n",
    "model.compile(optimizer=tf.keras.optimizers.Adam(learning_rate=1e-3),\n",
    "              loss='categorical_crossentropy',\n",
    "              metrics=['accuracy'])\n",
    "\n",
    "callback = tf.keras.callbacks.EarlyStopping(monitor='loss', patience=3)\n",
    "\n",
    "# train model\n",
    "model.fit(X_train, y_train, batch_size=batch_size, epochs=40, validation_split=0.2, verbose=1, callbacks=[callback])\n",
    "score, acc = model.evaluate(X_test, y_test, batch_size=batch_size, verbose=1)"
   ]
  },
  {
   "cell_type": "code",
   "execution_count": 19,
   "metadata": {
    "colab": {
     "base_uri": "https://localhost:8080/"
    },
    "executionInfo": {
     "elapsed": 43194,
     "status": "ok",
     "timestamp": 1630430399425,
     "user": {
      "displayName": "Fangzhou Xie",
      "photoUrl": "",
      "userId": "15917180334657161129"
     },
     "user_tz": 240
    },
    "id": "U-6NPzoJkE-C",
    "outputId": "0a1afaca-2adf-4b5f-f224-61027ccedd12"
   },
   "outputs": [
    {
     "name": "stdout",
     "output_type": "stream",
     "text": [
      "327/327 [==============================] - 26s 75ms/step\n",
      "              precision    recall  f1-score   support\n",
      "\n",
      "           0       0.85      0.70      0.77     41861\n",
      "           1       0.64      0.83      0.72     41904\n",
      "           2       0.84      0.85      0.84     41940\n",
      "           3       0.63      0.55      0.59     41707\n",
      "\n",
      "    accuracy                           0.73    167412\n",
      "   macro avg       0.74      0.73      0.73    167412\n",
      "weighted avg       0.74      0.73      0.73    167412\n",
      "\n",
      "[[29444  4078  3205  5134]\n",
      " [ 1187 34596   917  5204]\n",
      " [ 1560  1753 35662  2965]\n",
      " [ 2607 13603  2730 22767]]\n"
     ]
    }
   ],
   "source": [
    "# now lets' test\n",
    "y_pred = model.predict(X_test, batch_size=batch_size, verbose=1)\n",
    "y_pred_bool = np.argmax(y_pred, axis=1)\n",
    "\n",
    "print(classification_report(np.argmax(y_test, axis=1), y_pred_bool))\n",
    "print(confusion_matrix(np.argmax(y_test, axis=1), y_pred_bool))"
   ]
  },
  {
   "cell_type": "code",
   "execution_count": 20,
   "metadata": {
    "executionInfo": {
     "elapsed": 1294,
     "status": "ok",
     "timestamp": 1630430400707,
     "user": {
      "displayName": "Fangzhou Xie",
      "photoUrl": "",
      "userId": "15917180334657161129"
     },
     "user_tz": 240
    },
    "id": "VgQrbQybMGEZ"
   },
   "outputs": [],
   "source": [
    "model.save('lastname.h5', include_optimizer=False)\n",
    "model.save('lastname_opt.h5')"
   ]
  },
  {
   "cell_type": "markdown",
   "metadata": {
    "id": "p0u9yV6N2jl9"
   },
   "source": [
    "# Distill the Model"
   ]
  },
  {
   "cell_type": "code",
   "execution_count": 21,
   "metadata": {
    "executionInfo": {
     "elapsed": 5,
     "status": "ok",
     "timestamp": 1630430400709,
     "user": {
      "displayName": "Fangzhou Xie",
      "photoUrl": "",
      "userId": "15917180334657161129"
     },
     "user_tz": 240
    },
    "id": "lpKLoGXWoOPJ"
   },
   "outputs": [],
   "source": [
    "# TODO: shall we try model distillation for compressing the model size?\n",
    "# so that we will have smaller model to work with\n",
    "class Distiller(keras.Model):\n",
    "    def __init__(self, student, teacher):\n",
    "        super(Distiller, self).__init__()\n",
    "        self.teacher = teacher\n",
    "        self.student = student\n",
    "\n",
    "    def compile(\n",
    "        self,\n",
    "        optimizer,\n",
    "        metrics,\n",
    "        student_loss_fn,\n",
    "        distillation_loss_fn,\n",
    "        alpha=0.1,\n",
    "        temperature=3,\n",
    "    ):\n",
    "        \"\"\" Configure the distiller.\n",
    "\n",
    "        Args:\n",
    "            optimizer: Keras optimizer for the student weights\n",
    "            metrics: Keras metrics for evaluation\n",
    "            student_loss_fn: Loss function of difference between student\n",
    "                predictions and ground-truth\n",
    "            distillation_loss_fn: Loss function of difference between soft\n",
    "                student predictions and soft teacher predictions\n",
    "            alpha: weight to student_loss_fn and 1-alpha to distillation_loss_fn\n",
    "            temperature: Temperature for softening probability distributions.\n",
    "                Larger temperature gives softer distributions.\n",
    "        \"\"\"\n",
    "        super(Distiller, self).compile(optimizer=optimizer, metrics=metrics)\n",
    "        self.student_loss_fn = student_loss_fn\n",
    "        self.distillation_loss_fn = distillation_loss_fn\n",
    "        self.alpha = alpha\n",
    "        self.temperature = temperature\n",
    "\n",
    "    def train_step(self, data):\n",
    "        # Unpack data\n",
    "        x, y = data\n",
    "\n",
    "        # Forward pass of teacher\n",
    "        teacher_predictions = self.teacher(x, training=False)\n",
    "\n",
    "        with tf.GradientTape() as tape:\n",
    "            # Forward pass of student\n",
    "            student_predictions = self.student(x, training=True)\n",
    "\n",
    "            # Compute losses\n",
    "            student_loss = self.student_loss_fn(y, student_predictions)\n",
    "            distillation_loss = self.distillation_loss_fn(\n",
    "                tf.nn.softmax(teacher_predictions / self.temperature, axis=1),\n",
    "                tf.nn.softmax(student_predictions / self.temperature, axis=1),\n",
    "            )\n",
    "            loss = self.alpha * student_loss + (1 - self.alpha) * distillation_loss\n",
    "\n",
    "        # Compute gradients\n",
    "        trainable_vars = self.student.trainable_variables\n",
    "        gradients = tape.gradient(loss, trainable_vars)\n",
    "\n",
    "        # Update weights\n",
    "        self.optimizer.apply_gradients(zip(gradients, trainable_vars))\n",
    "\n",
    "        # Update the metrics configured in `compile()`.\n",
    "        self.compiled_metrics.update_state(y, student_predictions)\n",
    "\n",
    "        # Return a dict of performance\n",
    "        results = {m.name: m.result() for m in self.metrics}\n",
    "        results.update(\n",
    "            {\"student_loss\": student_loss, \"distillation_loss\": distillation_loss}\n",
    "        )\n",
    "        return results\n",
    "\n",
    "    def test_step(self, data):\n",
    "        # Unpack the data\n",
    "        x, y = data\n",
    "\n",
    "        # Compute predictions\n",
    "        y_prediction = self.student(x, training=False)\n",
    "\n",
    "        # Calculate the loss\n",
    "        student_loss = self.student_loss_fn(y, y_prediction)\n",
    "\n",
    "        # Update the metrics.\n",
    "        self.compiled_metrics.update_state(y, y_prediction)\n",
    "\n",
    "        # Return a dict of performance\n",
    "        results = {m.name: m.result() for m in self.metrics}\n",
    "        results.update({\"student_loss\": student_loss})\n",
    "        return results"
   ]
  },
  {
   "cell_type": "code",
   "execution_count": 22,
   "metadata": {
    "executionInfo": {
     "elapsed": 932,
     "status": "ok",
     "timestamp": 1630430401638,
     "user": {
      "displayName": "Fangzhou Xie",
      "photoUrl": "",
      "userId": "15917180334657161129"
     },
     "user_tz": 240
    },
    "id": "X981CoGW2lmo"
   },
   "outputs": [],
   "source": [
    "# Create the student\n",
    "student = keras.Sequential(\n",
    "    [\n",
    "        Embedding(num_words, 32, input_length=feature_len),\n",
    "        Bidirectional(LSTM(16, return_sequences=True, dropout=0.2), \n",
    "                            input_shape=(feature_len, 16)),\n",
    "        Bidirectional(LSTM(16, dropout=0.2)),\n",
    "        Dense(num_classes, activation='softmax')\n",
    "    ],\n",
    "    name=\"student\",\n",
    ")"
   ]
  },
  {
   "cell_type": "code",
   "execution_count": null,
   "metadata": {
    "colab": {
     "background_save": true,
     "base_uri": "https://localhost:8080/"
    },
    "id": "PjFVdBqx2xbz"
   },
   "outputs": [
    {
     "name": "stdout",
     "output_type": "stream",
     "text": [
      "Epoch 1/30\n",
      "20927/20927 [==============================] - 414s 19ms/step - categorical_accuracy: 0.5751 - student_loss: 0.9866 - distillation_loss: 3.1864e-04\n",
      "Epoch 2/30\n",
      "20927/20927 [==============================] - 412s 20ms/step - categorical_accuracy: 0.6204 - student_loss: 0.9078 - distillation_loss: 2.6282e-04\n",
      "Epoch 3/30\n",
      "20927/20927 [==============================] - 412s 20ms/step - categorical_accuracy: 0.6328 - student_loss: 0.8861 - distillation_loss: 2.4726e-04\n",
      "Epoch 4/30\n",
      "20927/20927 [==============================] - 412s 20ms/step - categorical_accuracy: 0.6387 - student_loss: 0.8751 - distillation_loss: 2.3956e-04\n",
      "Epoch 5/30\n",
      "20927/20927 [==============================] - 414s 20ms/step - categorical_accuracy: 0.6427 - student_loss: 0.8681 - distillation_loss: 2.3428e-04\n",
      "Epoch 6/30\n",
      "20927/20927 [==============================] - 412s 20ms/step - categorical_accuracy: 0.6457 - student_loss: 0.8632 - distillation_loss: 2.3066e-04\n",
      "Epoch 7/30\n",
      "20927/20927 [==============================] - 416s 20ms/step - categorical_accuracy: 0.6479 - student_loss: 0.8594 - distillation_loss: 2.2815e-04\n",
      "Epoch 8/30\n",
      "20927/20927 [==============================] - 411s 20ms/step - categorical_accuracy: 0.6504 - student_loss: 0.8562 - distillation_loss: 2.2566e-04\n",
      "Epoch 9/30\n",
      "20927/20927 [==============================] - 412s 20ms/step - categorical_accuracy: 0.6510 - student_loss: 0.8537 - distillation_loss: 2.2410e-04\n",
      "Epoch 10/30\n",
      "20927/20927 [==============================] - 414s 20ms/step - categorical_accuracy: 0.6529 - student_loss: 0.8522 - distillation_loss: 2.2288e-04\n",
      "Epoch 11/30\n",
      "20927/20927 [==============================] - 417s 20ms/step - categorical_accuracy: 0.6534 - student_loss: 0.8495 - distillation_loss: 2.2120e-04\n",
      "Epoch 12/30\n",
      "20927/20927 [==============================] - 416s 20ms/step - categorical_accuracy: 0.6544 - student_loss: 0.8483 - distillation_loss: 2.2026e-04\n",
      "Epoch 13/30\n",
      "20927/20927 [==============================] - 413s 20ms/step - categorical_accuracy: 0.6544 - student_loss: 0.8477 - distillation_loss: 2.1973e-04\n",
      "Epoch 14/30\n",
      "20927/20927 [==============================] - 413s 20ms/step - categorical_accuracy: 0.6555 - student_loss: 0.8465 - distillation_loss: 2.1846e-04\n",
      "Epoch 15/30\n",
      "20927/20927 [==============================] - 416s 20ms/step - categorical_accuracy: 0.6561 - student_loss: 0.8452 - distillation_loss: 2.1795e-04\n",
      "Epoch 16/30\n",
      "20927/20927 [==============================] - 419s 20ms/step - categorical_accuracy: 0.6571 - student_loss: 0.8440 - distillation_loss: 2.1701e-04\n",
      "Epoch 17/30\n",
      "20927/20927 [==============================] - 417s 20ms/step - categorical_accuracy: 0.6571 - student_loss: 0.8440 - distillation_loss: 2.1703e-04\n",
      "Epoch 18/30\n",
      "20927/20927 [==============================] - 420s 20ms/step - categorical_accuracy: 0.6580 - student_loss: 0.8427 - distillation_loss: 2.1623e-04\n",
      "Epoch 19/30\n",
      "20927/20927 [==============================] - 418s 20ms/step - categorical_accuracy: 0.6580 - student_loss: 0.8423 - distillation_loss: 2.1554e-04\n",
      "Epoch 20/30\n",
      "20927/20927 [==============================] - 418s 20ms/step - categorical_accuracy: 0.6587 - student_loss: 0.8418 - distillation_loss: 2.1528e-04\n",
      "Epoch 21/30\n",
      "20927/20927 [==============================] - 419s 20ms/step - categorical_accuracy: 0.6595 - student_loss: 0.8410 - distillation_loss: 2.1495e-04\n",
      "Epoch 22/30\n",
      "20927/20927 [==============================] - 422s 20ms/step - categorical_accuracy: 0.6596 - student_loss: 0.8401 - distillation_loss: 2.1449e-04\n",
      "Epoch 23/30\n",
      "20927/20927 [==============================] - 421s 20ms/step - categorical_accuracy: 0.6593 - student_loss: 0.8403 - distillation_loss: 2.1434e-04\n",
      "Epoch 24/30\n",
      "20927/20927 [==============================] - 420s 20ms/step - categorical_accuracy: 0.6596 - student_loss: 0.8394 - distillation_loss: 2.1369e-04\n",
      "Epoch 25/30\n",
      "20927/20927 [==============================] - 421s 20ms/step - categorical_accuracy: 0.6600 - student_loss: 0.8387 - distillation_loss: 2.1328e-04\n",
      "Epoch 26/30\n",
      "20927/20927 [==============================] - 420s 20ms/step - categorical_accuracy: 0.6605 - student_loss: 0.8385 - distillation_loss: 2.1304e-04\n",
      "Epoch 27/30\n",
      "20927/20927 [==============================] - 422s 20ms/step - categorical_accuracy: 0.6603 - student_loss: 0.8383 - distillation_loss: 2.1284e-04\n",
      "Epoch 28/30\n",
      "20927/20927 [==============================] - 422s 20ms/step - categorical_accuracy: 0.6610 - student_loss: 0.8380 - distillation_loss: 2.1265e-04\n",
      "Epoch 29/30\n",
      "20927/20927 [==============================] - 421s 20ms/step - categorical_accuracy: 0.6607 - student_loss: 0.8372 - distillation_loss: 2.1221e-04\n",
      "Epoch 30/30\n",
      "20927/20927 [==============================] - 422s 20ms/step - categorical_accuracy: 0.6612 - student_loss: 0.8370 - distillation_loss: 2.1209e-04\n",
      "5232/5232 [==============================] - 24s 4ms/step - categorical_accuracy: 0.6716 - student_loss: 0.8178\n"
     ]
    },
    {
     "data": {
      "text/plain": [
       "[0.6715946197509766, 0.8687471151351929]"
      ]
     },
     "execution_count": null,
     "metadata": {},
     "output_type": "execute_result"
    }
   ],
   "source": [
    "# Initialize and compile distiller\n",
    "distiller = Distiller(student=student, teacher=model)\n",
    "distiller.compile(\n",
    "    optimizer=keras.optimizers.Adam(),\n",
    "    metrics=[keras.metrics.CategoricalAccuracy()],\n",
    "    student_loss_fn=keras.losses.CategoricalCrossentropy(),\n",
    "    distillation_loss_fn=keras.losses.KLDivergence(),\n",
    "    alpha=0.1,\n",
    "    temperature=10,\n",
    ")\n",
    "\n",
    "# Distill teacher to student\n",
    "distiller.fit(X_train, y_train, epochs=30)\n",
    "\n",
    "# Evaluate student on test dataset\n",
    "distiller.evaluate(X_test, y_test)"
   ]
  },
  {
   "cell_type": "code",
   "execution_count": null,
   "metadata": {
    "id": "dSa_Mz1W24NY"
   },
   "outputs": [],
   "source": [
    "y_pred = distiller.student.predict(X_test, batch_size=32, verbose=1)\n",
    "y_pred_bool = np.argmax(y_pred, axis=1)\n",
    "\n",
    "print(classification_report(np.argmax(y_test, axis=1), y_pred_bool))\n",
    "print(confusion_matrix(np.argmax(y_test, axis=1), y_pred_bool))"
   ]
  },
  {
   "cell_type": "code",
   "execution_count": null,
   "metadata": {
    "colab": {
     "background_save": true
    },
    "id": "F2BHkrW929xf"
   },
   "outputs": [
    {
     "name": "stdout",
     "output_type": "stream",
     "text": [
      "WARNING:tensorflow:Compiled the loaded model, but the compiled metrics have yet to be built. `model.compile_metrics` will be empty until you train or evaluate the model.\n",
      "WARNING:tensorflow:Compiled the loaded model, but the compiled metrics have yet to be built. `model.compile_metrics` will be empty until you train or evaluate the model.\n"
     ]
    }
   ],
   "source": [
    "distiller.student.save('lastname_distill_opt.h5')\n",
    "distiller.student.save('lastname_distill.h5', include_optimizer=False)"
   ]
  },
  {
   "cell_type": "markdown",
   "metadata": {
    "id": "1Sq0AoaL3oxZ"
   },
   "source": [
    "# Tune the Model"
   ]
  },
  {
   "cell_type": "code",
   "execution_count": null,
   "metadata": {
    "id": "twHc9ikEQXTU"
   },
   "outputs": [],
   "source": [
    "model.summary()"
   ]
  },
  {
   "cell_type": "code",
   "execution_count": null,
   "metadata": {
    "id": "7Bqz-zDjQXTU"
   },
   "outputs": [],
   "source": [
    "model.get_config()"
   ]
  },
  {
   "cell_type": "code",
   "execution_count": null,
   "metadata": {
    "id": "wpWFwcbCQXTU"
   },
   "outputs": [],
   "source": [
    "model.optimizer"
   ]
  },
  {
   "cell_type": "code",
   "execution_count": null,
   "metadata": {
    "id": "2vrwONT8QXTU"
   },
   "outputs": [],
   "source": [
    "from keras import backend as K\n",
    "K.eval(model.optimizer.lr)"
   ]
  },
  {
   "cell_type": "code",
   "execution_count": null,
   "metadata": {
    "id": "lC2QHV06RZ2S"
   },
   "outputs": [],
   "source": [
    "# from google.colab import files\n",
    "# files.download('fullname_2_ethnicity_bilstm.h5') "
   ]
  }
 ],
 "metadata": {
  "accelerator": "GPU",
  "colab": {
   "authorship_tag": "ABX9TyM1hoDYhwTw+NtTGyJkuhtv",
   "collapsed_sections": [],
   "name": "rethnicity_singlechar_distill_lastname.ipynb",
   "version": ""
  },
  "kernelspec": {
   "display_name": "Python 3",
   "language": "python",
   "name": "python3"
  },
  "language_info": {
   "codemirror_mode": {
    "name": "ipython",
    "version": 3
   },
   "file_extension": ".py",
   "mimetype": "text/x-python",
   "name": "python",
   "nbconvert_exporter": "python",
   "pygments_lexer": "ipython3",
   "version": "3.8.10"
  }
 },
 "nbformat": 4,
 "nbformat_minor": 1
}
